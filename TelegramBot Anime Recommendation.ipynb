{
  "nbformat": 4,
  "nbformat_minor": 0,
  "metadata": {
    "colab": {
      "provenance": [],
      "collapsed_sections": []
    },
    "kernelspec": {
      "name": "python3",
      "display_name": "Python 3"
    },
    "language_info": {
      "name": "python"
    }
  },
  "cells": [
    {
      "cell_type": "code",
      "execution_count": 1,
      "metadata": {
        "colab": {
          "base_uri": "https://localhost:8080/"
        },
        "id": "BvYgulVLVEki",
        "outputId": "c136a726-ac9f-4044-893a-e30ce82ac052"
      },
      "outputs": [
        {
          "output_type": "stream",
          "name": "stdout",
          "text": [
            "Looking in indexes: https://pypi.org/simple, https://us-python.pkg.dev/colab-wheels/public/simple/\n",
            "Requirement already satisfied: python-telegram-bot in /usr/local/lib/python3.7/dist-packages (13.14)\n",
            "Requirement already satisfied: pytz>=2018.6 in /usr/local/lib/python3.7/dist-packages (from python-telegram-bot) (2022.2.1)\n",
            "Requirement already satisfied: APScheduler==3.6.3 in /usr/local/lib/python3.7/dist-packages (from python-telegram-bot) (3.6.3)\n",
            "Requirement already satisfied: tornado==6.1 in /usr/local/lib/python3.7/dist-packages (from python-telegram-bot) (6.1)\n",
            "Requirement already satisfied: certifi in /usr/local/lib/python3.7/dist-packages (from python-telegram-bot) (2022.6.15)\n",
            "Requirement already satisfied: cachetools==4.2.2 in /usr/local/lib/python3.7/dist-packages (from python-telegram-bot) (4.2.2)\n",
            "Requirement already satisfied: six>=1.4.0 in /usr/local/lib/python3.7/dist-packages (from APScheduler==3.6.3->python-telegram-bot) (1.15.0)\n",
            "Requirement already satisfied: setuptools>=0.7 in /usr/local/lib/python3.7/dist-packages (from APScheduler==3.6.3->python-telegram-bot) (57.4.0)\n",
            "Requirement already satisfied: tzlocal>=1.2 in /usr/local/lib/python3.7/dist-packages (from APScheduler==3.6.3->python-telegram-bot) (1.5.1)\n"
          ]
        }
      ],
      "source": [
        "pip install python-telegram-bot"
      ]
    },
    {
      "cell_type": "code",
      "source": [
        "from telegram.ext.updater import Updater\n",
        "from telegram.update import Update\n",
        "from telegram.ext.callbackcontext import CallbackContext\n",
        "from telegram.ext.commandhandler import CommandHandler\n",
        "from telegram.ext.messagehandler import MessageHandler\n",
        "from telegram.ext.filters import Filters\n"
      ],
      "metadata": {
        "id": "dYWi37E9XFM3"
      },
      "execution_count": 2,
      "outputs": []
    },
    {
      "cell_type": "code",
      "source": [
        "updater = Updater(\"5541756808:AAGnN36VZvcTEW_yc8qbTkeQS1AzwbnQkwU\",\n",
        "\t\t\t\tuse_context=True)\n",
        "\n",
        "\n",
        "def start(update: Update, context: CallbackContext):\n",
        "\tupdate.message.reply_text(\n",
        "\t\t\"Welcome to the Bot!!\")\n"
      ],
      "metadata": {
        "id": "HQaD7e5vX1EF"
      },
      "execution_count": 3,
      "outputs": []
    },
    {
      "cell_type": "code",
      "source": [
        "def start(update: Update, context: CallbackContext):\n",
        "    update.message.reply_text(\n",
        "        \"Hello sir, Welcome to the Bot. Please write\\\n",
        "        /help to see the commands available.\")"
      ],
      "metadata": {
        "id": "33B4RNCxYFne"
      },
      "execution_count": 4,
      "outputs": []
    },
    {
      "cell_type": "code",
      "source": [
        "def help(update: Update, context: CallbackContext):\n",
        "    update.message.reply_text(\"\"\"Available Commands :-\n",
        "    /anime - Recommends you some of the best anime sites where you can watch your anime!\n",
        "    /horror - Takes you to the URL that recommends some of the best Horror anime\n",
        "    /comedy - Takes you to the URL that recommends some of the best Comedy anime\n",
        "    /romcom - Takes you to the URL that recommends some of the best Romance Comedy anime\n",
        "    /suspense - Takes you to the URL that recommends some of the best Suspense anime\n",
        "    /Mystery - Takes you to the URL that recommends some of the best Murder Mystery anime\"\"\")"
      ],
      "metadata": {
        "id": "X-VR-AgZYjSO"
      },
      "execution_count": 5,
      "outputs": []
    },
    {
      "cell_type": "code",
      "source": [
        "def anime(update: Update, context: CallbackContext):\n",
        "    update.message.reply_text(\"Sites to watch Anime URL =>\\\n",
        "    https://www.softwaretestinghelp.com/best-free-anime-websites/\")"
      ],
      "metadata": {
        "id": "GURwHMb7kEgL"
      },
      "execution_count": 7,
      "outputs": []
    },
    {
      "cell_type": "code",
      "source": [
        "def horror(update: Update, context: CallbackContext):\n",
        "    update.message.reply_text(\"Horror Anime Recommendation URL =>\\\n",
        "    https://www.thrillist.com/entertainment/nation/best-horror-anime-series-movies\")"
      ],
      "metadata": {
        "id": "rCA7oGDOkEtV"
      },
      "execution_count": 8,
      "outputs": []
    },
    {
      "cell_type": "code",
      "source": [
        "def comedy(update: Update, context: CallbackContext):\n",
        "    update.message.reply_text(\"Comedy Anime Recommendation URL =>\\\n",
        "    https://gamerant.com/best-comedy-anime-series/\")"
      ],
      "metadata": {
        "id": "IkSPa4zMkEwm"
      },
      "execution_count": 9,
      "outputs": []
    },
    {
      "cell_type": "code",
      "source": [
        "def romcom(update: Update, context: CallbackContext):\n",
        "    update.message.reply_text(\"Romantic Anime Recommendation URL =>\\\n",
        "    https://www.cbr.com/top-funniest-romance-anime/\")"
      ],
      "metadata": {
        "id": "gXxGb7O_kE1N"
      },
      "execution_count": 10,
      "outputs": []
    },
    {
      "cell_type": "code",
      "source": [
        "def suspense(update: Update, context: CallbackContext):\n",
        "    update.message.reply_text(\"Horror Anime Recommendation URL =>\\\n",
        "    https://reelrundown.com/animation/Best-Thriller-Anime\")"
      ],
      "metadata": {
        "id": "RvN-6klNkE6a"
      },
      "execution_count": 11,
      "outputs": []
    },
    {
      "cell_type": "code",
      "source": [
        "def mystery(update: Update, context: CallbackContext):\n",
        "    update.message.reply_text(\"Horror Anime Recommendation URL =>\\\n",
        "    https://www.cbr.com/best-murder-mystery-anime-ranked/\")"
      ],
      "metadata": {
        "id": "9_eaTvHXkE_F"
      },
      "execution_count": 12,
      "outputs": []
    },
    {
      "cell_type": "code",
      "source": [
        "updater.dispatcher.add_handler(CommandHandler('start', start))\n",
        "updater.dispatcher.add_handler(CommandHandler('help', help))\n",
        "updater.dispatcher.add_handler(CommandHandler('anime', anime))\n",
        "updater.dispatcher.add_handler(CommandHandler('horror', horror))\n",
        "updater.dispatcher.add_handler(CommandHandler('comedy', comedy))\n",
        "updater.dispatcher.add_handler(CommandHandler('romcom', romcom))\n",
        "updater.dispatcher.add_handler(CommandHandler('suspense', suspense))\n",
        "updater.dispatcher.add_handler(CommandHandler('mystery', mystery))\n",
        "  \n",
        "updater.start_polling()"
      ],
      "metadata": {
        "colab": {
          "base_uri": "https://localhost:8080/"
        },
        "id": "xGrBci0nnu7J",
        "outputId": "2eb4854c-44bc-475e-d3cc-36a5c97d6c6f"
      },
      "execution_count": 14,
      "outputs": [
        {
          "output_type": "execute_result",
          "data": {
            "text/plain": [
              "<queue.Queue at 0x7f8b3f2a2c50>"
            ]
          },
          "metadata": {},
          "execution_count": 14
        }
      ]
    }
  ]
}